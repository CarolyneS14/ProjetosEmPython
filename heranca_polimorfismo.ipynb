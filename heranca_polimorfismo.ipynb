{
 "cells": [
  {
   "cell_type": "code",
   "execution_count": 2,
   "metadata": {},
   "outputs": [],
   "source": [
    "class Gata:\n",
    "\n",
    "    def __init__(self, **kwargs):\n",
    "        self._patas = kwargs['patas']       \n",
    "        self._nome = kwargs['nome'] if 'nome' in kwargs else 'Nísia'\n",
    "        self._cor = kwargs['cor'] \n",
    "        self._comprimento_pelagem = kwargs['comprimento_pelagem']\n",
    "    \n",
    "    def getNome(self):\n",
    "        return self._nome\n",
    "    \n",
    "    def getIdade(self):\n",
    "        return self._idade\n",
    " \n",
    "    def getCor(self):\n",
    "        return self._cor\n",
    "\n",
    "    def setCor(self, nova_cor='cinza'):\n",
    "        if nova_cor:\n",
    "            self._cor = nova_cor\n",
    "        return self._cor\n",
    "    \n",
    "    def som(self):\n",
    "        return f'{self._nome} é uma gata que mia.'"
   ]
  },
  {
   "attachments": {},
   "cell_type": "markdown",
   "metadata": {},
   "source": [
    "1. Crie uma subclasse usando a classe acima\n",
    "1. Extenda o método __init__ e adicione um valor padrão para a variável _idade\n",
    "1. Modifique o comportamento do método som()   "
   ]
  },
  {
   "cell_type": "code",
   "execution_count": 3,
   "metadata": {},
   "outputs": [],
   "source": [
    "class Siames(Gata):\n",
    "    def __init__(self, **kwargs):\n",
    "        super().__init__(**kwargs)\n",
    "        self._idade = kwargs['idade'] if 'idade' in kwargs else 0\n",
    "\n",
    "    def som(self):\n",
    "        return f'Gatos da espécie siamesa miam pouco.'  "
   ]
  },
  {
   "attachments": {},
   "cell_type": "markdown",
   "metadata": {},
   "source": [
    "- Instancie um objeto usando a nova classe e imprima na tela nome, idade e som"
   ]
  },
  {
   "cell_type": "code",
   "execution_count": 4,
   "metadata": {},
   "outputs": [
    {
     "name": "stdout",
     "output_type": "stream",
     "text": [
      "Nísia\n",
      "Nísia é uma gata que mia.\n",
      "Nísia\n",
      "0\n",
      "Gatos da espécie siamesa miam pouco.\n"
     ]
    }
   ],
   "source": [
    "nisia = Gata(patas=3, cor='laranja', comprimento_pelagem='médio')\n",
    "print(nisia.getNome())\n",
    "# print(nisia.getIdade())\n",
    "print(nisia.som())\n",
    "\n",
    "nisia_siamesa = Siames(patas=3, cor='laranja', comprimento_pelagem='médio')\n",
    "print(nisia_siamesa.getNome())\n",
    "print(nisia_siamesa.getIdade())\n",
    "print(nisia_siamesa.som())"
   ]
  }
 ],
 "metadata": {
  "kernelspec": {
   "display_name": "Python 3",
   "language": "python",
   "name": "python3"
  },
  "language_info": {
   "codemirror_mode": {
    "name": "ipython",
    "version": 3
   },
   "file_extension": ".py",
   "mimetype": "text/x-python",
   "name": "python",
   "nbconvert_exporter": "python",
   "pygments_lexer": "ipython3",
   "version": "3.12.1"
  },
  "orig_nbformat": 4,
  "vscode": {
   "interpreter": {
    "hash": "916dbcbb3f70747c44a77c7bcd40155683ae19c65e1c03b4aa3499c5328201f1"
   }
  }
 },
 "nbformat": 4,
 "nbformat_minor": 2
}
