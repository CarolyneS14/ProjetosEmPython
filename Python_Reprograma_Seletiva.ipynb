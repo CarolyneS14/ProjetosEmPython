{
  "nbformat": 4,
  "nbformat_minor": 0,
  "metadata": {
    "colab": {
      "provenance": [],
      "include_colab_link": true
    },
    "kernelspec": {
      "name": "python3",
      "display_name": "Python 3"
    },
    "language_info": {
      "name": "python"
    }
  },
  "cells": [
    {
      "cell_type": "markdown",
      "metadata": {
        "id": "view-in-github",
        "colab_type": "text"
      },
      "source": [
        "<a href=\"https://colab.research.google.com/github/CarolyneS14/ProjetosEmPython/blob/main/Python_Reprograma_Seletiva.ipynb\" target=\"_parent\"><img src=\"https://colab.research.google.com/assets/colab-badge.svg\" alt=\"Open In Colab\"/></a>"
      ]
    },
    {
      "cell_type": "markdown",
      "source": [
        "**SELETIVA 1**"
      ],
      "metadata": {
        "id": "CnZfTTIjTTPR"
      }
    },
    {
      "cell_type": "code",
      "execution_count": null,
      "metadata": {
        "colab": {
          "base_uri": "https://localhost:8080/"
        },
        "id": "2LFXzYoAXN9x",
        "outputId": "93247ef2-b892-4506-c9f7-25eae89a8003"
      },
      "outputs": [
        {
          "output_type": "stream",
          "name": "stdout",
          "text": [
            "Ola Mundo!\n"
          ]
        }
      ],
      "source": [
        "print(\"Ola Mundo!\")"
      ]
    },
    {
      "cell_type": "code",
      "source": [
        "#criar variáveis\n",
        "saudacao = \"Oi Mundo!\"\n",
        "print(saudacao)"
      ],
      "metadata": {
        "colab": {
          "base_uri": "https://localhost:8080/"
        },
        "id": "90SQg1Tfi9p0",
        "outputId": "8429c953-9c4e-4301-b96e-a8f54660ceeb"
      },
      "execution_count": null,
      "outputs": [
        {
          "output_type": "stream",
          "name": "stdout",
          "text": [
            "Oi Mundo!\n"
          ]
        }
      ]
    },
    {
      "cell_type": "code",
      "source": [
        "flor_bonita = \"margarida\"\n",
        "print(flor_bonita)"
      ],
      "metadata": {
        "colab": {
          "base_uri": "https://localhost:8080/"
        },
        "id": "Zql4SmkkjIyh",
        "outputId": "fe048a95-8a57-41e6-f1a2-64b20612364d"
      },
      "execution_count": null,
      "outputs": [
        {
          "output_type": "stream",
          "name": "stdout",
          "text": [
            "margarida\n"
          ]
        }
      ]
    },
    {
      "cell_type": "code",
      "source": [
        "numero1 = 2\n",
        "print(numero1)\n",
        "numero2 = 6\n",
        "print(numero2)\n",
        "soma = numero1 + numero2\n",
        "print(soma)\n",
        "\n",
        "print(numero1+numero2)\n",
        "numero2 = numero1 + numero2\n",
        "print(numero2)"
      ],
      "metadata": {
        "colab": {
          "base_uri": "https://localhost:8080/"
        },
        "id": "HLcyF9ddXiZ2",
        "outputId": "7b4d8c94-37a7-449a-cebe-f4e91db01753"
      },
      "execution_count": null,
      "outputs": [
        {
          "output_type": "stream",
          "name": "stdout",
          "text": [
            "2\n",
            "6\n",
            "8\n",
            "8\n",
            "8\n"
          ]
        }
      ]
    },
    {
      "cell_type": "code",
      "source": [
        "#\n",
        "valor = 2,9\n",
        "valor1 = 2\n",
        "print(\"O tipo do valor e: \", type(valor), \"O tipo do valor1 e: \", type(valor1))"
      ],
      "metadata": {
        "colab": {
          "base_uri": "https://localhost:8080/"
        },
        "id": "UPzf6AGbXo7R",
        "outputId": "d4546ce4-51fe-44ec-d2fa-476e19ebd83f"
      },
      "execution_count": null,
      "outputs": [
        {
          "output_type": "stream",
          "name": "stdout",
          "text": [
            "O tipo do valor e:  <class 'tuple'> O tipo do valor1 e:  <class 'int'>\n"
          ]
        }
      ]
    },
    {
      "cell_type": "code",
      "source": [
        "#concatenar variáveis\n",
        "texto = \"Oi Mundo!\"\n",
        "texto1 = \"Meu nome é Carolyne.\"\n",
        "print(texto + \" \" + texto1)"
      ],
      "metadata": {
        "colab": {
          "base_uri": "https://localhost:8080/"
        },
        "id": "K4r3vynocogx",
        "outputId": "d0b5d886-5de4-4459-cb0e-44123ce36ae1"
      },
      "execution_count": null,
      "outputs": [
        {
          "output_type": "stream",
          "name": "stdout",
          "text": [
            "Oi Mundo! Meu nome é Carolyne.\n"
          ]
        }
      ]
    },
    {
      "cell_type": "code",
      "source": [
        "#função para transformar um inteiro em uma string!\n",
        "texto = \"Oi Mundo!\"\n",
        "numero = str(1)\n",
        "print(texto + \" \" + numero)"
      ],
      "metadata": {
        "colab": {
          "base_uri": "https://localhost:8080/"
        },
        "id": "8hYoxLDPfY7T",
        "outputId": "1ac3a8ab-8826-4363-a5c6-3563ca3883e9"
      },
      "execution_count": null,
      "outputs": [
        {
          "output_type": "stream",
          "name": "stdout",
          "text": [
            "Oi Mundo! 1\n"
          ]
        }
      ]
    },
    {
      "cell_type": "code",
      "source": [
        "#função para transformar um string em uma inteiro!\n",
        "texto = 5\n",
        "numero = int(\"4\")\n",
        "print(texto+numero)"
      ],
      "metadata": {
        "colab": {
          "base_uri": "https://localhost:8080/"
        },
        "id": "t9efuE0bjUVq",
        "outputId": "13612232-b5f8-4f0e-853f-dc584c2b59b3"
      },
      "execution_count": null,
      "outputs": [
        {
          "output_type": "stream",
          "name": "stdout",
          "text": [
            "9\n"
          ]
        }
      ]
    },
    {
      "cell_type": "code",
      "source": [
        "#if = se\n",
        "if 1 > 0 :\n",
        "  print(\"Uhruuuuuuul\")\n",
        "\n",
        "print(\"Fim do programa\")"
      ],
      "metadata": {
        "colab": {
          "base_uri": "https://localhost:8080/"
        },
        "id": "1-fDh-sGjflO",
        "outputId": "1cab9ae0-3e4f-4d03-c335-76f4df23d9b2"
      },
      "execution_count": null,
      "outputs": [
        {
          "output_type": "stream",
          "name": "stdout",
          "text": [
            "Uhruuuuuuul\n",
            "Fim do programa\n"
          ]
        }
      ]
    },
    {
      "cell_type": "code",
      "source": [
        "#else = se não (sempre após o uso do if)\n",
        "if 1 < 0 :\n",
        "  print(\"Uhruuuuuuul\")\n",
        "else:\n",
        "  print(\":'(\")\n",
        "\n",
        "print(\"Fim do programa\")\n"
      ],
      "metadata": {
        "colab": {
          "base_uri": "https://localhost:8080/"
        },
        "id": "eyEOVHsAoBDM",
        "outputId": "328aa701-1a34-441b-8275-1ff6df885356"
      },
      "execution_count": null,
      "outputs": [
        {
          "output_type": "stream",
          "name": "stdout",
          "text": [
            ":'(\n",
            "Fim do programa\n"
          ]
        }
      ]
    },
    {
      "cell_type": "code",
      "source": [
        "#elif = se não (sempre após o uso do if)\n",
        "if 1 < 0 :\n",
        "  print(\"Uhruuuuuuul\")\n",
        "elif 1 > 0 :\n",
        "  print (\"eu que estou certo\")\n",
        "else:\n",
        "  print(\":'(\")\n",
        "\n",
        "print(\"Fim do programa\")\n"
      ],
      "metadata": {
        "colab": {
          "base_uri": "https://localhost:8080/"
        },
        "id": "VvVo7JwhpLdq",
        "outputId": "2df461df-1918-4b42-e3e0-e9e02a634e5d"
      },
      "execution_count": null,
      "outputs": [
        {
          "output_type": "stream",
          "name": "stdout",
          "text": [
            "eu que estou certo\n",
            "Fim do programa\n"
          ]
        }
      ]
    },
    {
      "cell_type": "code",
      "source": [
        "num1 = 7\n",
        "num2 = 9\n",
        "if num1 < 0 :\n",
        "  print(num2 - num1)\n",
        "elif num1 > 0 and num2 < 0 :\n",
        "  print(num1 - (num2))\n",
        "else:\n",
        "  print(num1 + num2)"
      ],
      "metadata": {
        "colab": {
          "base_uri": "https://localhost:8080/"
        },
        "id": "eh4t8k1zoxsy",
        "outputId": "28dcf0ef-7d03-46e1-f06e-4628b434e418"
      },
      "execution_count": null,
      "outputs": [
        {
          "output_type": "stream",
          "name": "stdout",
          "text": [
            "16\n"
          ]
        }
      ]
    },
    {
      "cell_type": "code",
      "source": [
        "#laço de repetição  - while = enquanto\n",
        "\n",
        "numero = 0\n",
        "\n",
        "while numero <= 5:\n",
        "  print(numero)\n",
        "  numero = numero + 1"
      ],
      "metadata": {
        "colab": {
          "base_uri": "https://localhost:8080/"
        },
        "id": "MDm24Ep6xZlO",
        "outputId": "94ac75b1-5555-4903-a9a1-666114b69b4d"
      },
      "execution_count": null,
      "outputs": [
        {
          "output_type": "stream",
          "name": "stdout",
          "text": [
            "0\n",
            "1\n",
            "2\n",
            "3\n",
            "4\n",
            "5\n"
          ]
        }
      ]
    },
    {
      "cell_type": "code",
      "source": [
        "#função input\n",
        "entrada = input (\"Escreva sua idade: \")\n",
        "print (entrada)\n",
        "\n",
        "texto = input(\"Escreva seu nome: \")\n",
        "print(texto)"
      ],
      "metadata": {
        "colab": {
          "base_uri": "https://localhost:8080/"
        },
        "id": "NgC51hp_1nm9",
        "outputId": "f4b4da3b-6da7-4d6e-c988-6ff30eac474b"
      },
      "execution_count": null,
      "outputs": [
        {
          "output_type": "stream",
          "name": "stdout",
          "text": [
            "Escreva sua idade: 32\n",
            "32\n",
            "Escreva seu nome: Carol\n",
            "Carol\n"
          ]
        }
      ]
    },
    {
      "cell_type": "code",
      "source": [
        "entrada = input (\"Escreva um numero: \")\n",
        "entrada = int(entrada)\n",
        "print (entrada, type(entrada))\n",
        "\n",
        "entrada1 = input (\"Escreva outro numero: \")\n",
        "entrada1 = int(entrada1)\n",
        "print (entrada1, type(entrada1))\n",
        "\n",
        "soma = entrada + entrada1\n",
        "print(soma)"
      ],
      "metadata": {
        "colab": {
          "base_uri": "https://localhost:8080/"
        },
        "id": "OMWOLNgn4F7S",
        "outputId": "69a4b7cb-eb6c-483e-92fd-4f4956b9c1d3"
      },
      "execution_count": null,
      "outputs": [
        {
          "output_type": "stream",
          "name": "stdout",
          "text": [
            "Escreva um numero: 32\n",
            "32 <class 'int'>\n",
            "Escreva outro numero: 62\n",
            "62 <class 'int'>\n",
            "94\n"
          ]
        }
      ]
    },
    {
      "cell_type": "code",
      "source": [
        "#desafio - Calculadora\n",
        "numero1 = input(\"Digite um numero: \")\n",
        "numero1 = int(numero1)\n",
        "numero2 = input(\"Digite outro numero: \")\n",
        "numero2 = int(numero2)\n",
        "\n",
        "operacao = input(\"qual operação você quer realizar? \")\n",
        "\n",
        "if operacao == '+':\n",
        "    print(numero1 + numero2)\n",
        "\n",
        "elif operacao == '-':\n",
        "    print(numero1 - numero2)\n",
        "elif operacao == '*':\n",
        "    print(numero1 * numero2)\n",
        "elif operacao == '/':\n",
        "    print(numero1 / numero2)\n",
        "else:\n",
        "   (\"Sua operação não é válida, digite novamente!\")\n"
      ],
      "metadata": {
        "colab": {
          "base_uri": "https://localhost:8080/"
        },
        "id": "WZAoVBk-jzp2",
        "outputId": "7861d520-f37f-4a28-b4e7-a76a2d2a8e36"
      },
      "execution_count": null,
      "outputs": [
        {
          "output_type": "stream",
          "name": "stdout",
          "text": [
            "Digite um numero: 62\n",
            "Digite outro numero: 32\n",
            "qual operação você quer realizar? -\n",
            "30\n"
          ]
        }
      ]
    },
    {
      "cell_type": "code",
      "source": [
        "#Calculadora com um loop infinito\n",
        "while True:\n",
        "  operação = input(\"Insira uma operação: Soma (+), Divisão(/), Subtração(-), multiplicação(*) \")\n",
        "  if operação == '+':\n",
        "        numero1 = int(input(\"Insira o primeiro número: \"))\n",
        "        numero2 = int(input(\"Insira o segundo número: \"))\n",
        "        soma = numero1 + numero2\n",
        "        print(\"Soma:\", soma)\n",
        "  elif operação == '-':\n",
        "        numero1 = int(input(\"Insira o primeiro número: \"))\n",
        "        numero2 = int(input(\"Insira o segundo número: \"))\n",
        "        subtração = numero1 - numero2\n",
        "        print(\"Subtracção:\", subtração)\n",
        "  elif operação == '*':\n",
        "        numero1 = int(input(\"Insira o primeiro número: \"))\n",
        "        numero2 = int(input(\"Insira o segundo número: \"))\n",
        "        multiplicação = numero1 * numero2\n",
        "        print(\"Multiplicação:\", multiplicação)\n",
        "  elif operação == '/':\n",
        "        numero1 = int(input(\"Insira o primeiro número: \"))\n",
        "        numero2 = int(input(\"Insira o segundo número: \"))\n",
        "        divisão = numero1 / numero2\n",
        "        print(\"Divisão:\", divisão)\n",
        "  else:\n",
        "        print(\"Operação inválida!\")\n",
        "        break"
      ],
      "metadata": {
        "colab": {
          "base_uri": "https://localhost:8080/"
        },
        "id": "VWTKJ6y6kYpM",
        "outputId": "3158c070-567b-4739-c69e-477c07c5e09a"
      },
      "execution_count": null,
      "outputs": [
        {
          "output_type": "stream",
          "name": "stdout",
          "text": [
            "Insira uma operação: Soma (+), Divisão(/), Subtração(-), multiplicação(*) 2024\n",
            "Operação inválida!\n"
          ]
        }
      ]
    },
    {
      "cell_type": "markdown",
      "source": [
        "**SELETIVA 2**"
      ],
      "metadata": {
        "id": "iS_Yb_rOTZm8"
      }
    },
    {
      "cell_type": "code",
      "source": [
        "print(\"Olá, Mundo!\")"
      ],
      "metadata": {
        "colab": {
          "base_uri": "https://localhost:8080/"
        },
        "id": "Dr2tRVSKROgY",
        "outputId": "d4c11c0c-6ebc-48ec-c0b6-7b0ef1bc4cc2"
      },
      "execution_count": null,
      "outputs": [
        {
          "output_type": "stream",
          "name": "stdout",
          "text": [
            "Olá, Mundo!\n"
          ]
        }
      ]
    },
    {
      "cell_type": "code",
      "source": [
        "a = \"Olá, mundo!\"\n",
        "print(a)\n",
        "a = 1\n",
        "print(a)\n",
        "\n",
        "print(a)"
      ],
      "metadata": {
        "colab": {
          "base_uri": "https://localhost:8080/"
        },
        "id": "iyzw21r3RWB1",
        "outputId": "52c837db-4d7d-47a2-febd-e50b0a2e78eb"
      },
      "execution_count": null,
      "outputs": [
        {
          "output_type": "stream",
          "name": "stdout",
          "text": [
            "Olá, mundo!\n",
            "1\n",
            "1\n"
          ]
        }
      ]
    },
    {
      "cell_type": "code",
      "source": [
        "#Atribuindo valor para variável\n",
        "variável = \"Olá, mundo!\"\n",
        "print(variável)\n",
        "print(variável)\n",
        "print(variável)"
      ],
      "metadata": {
        "colab": {
          "base_uri": "https://localhost:8080/"
        },
        "id": "KLFSgE0bRXkH",
        "outputId": "87cb8fd1-3f20-4243-f96b-ac9dca4c5ab6"
      },
      "execution_count": null,
      "outputs": [
        {
          "output_type": "stream",
          "name": "stdout",
          "text": [
            "Olá, mundo!\n",
            "Olá, mundo!\n",
            "Olá, mundo!\n"
          ]
        }
      ]
    },
    {
      "cell_type": "code",
      "source": [
        "#Atribuir valor numerico a variável\n",
        "numero1 = 1\n",
        "print(numero1)\n",
        "\n",
        "numero2 = 32\n",
        "print(numero2)"
      ],
      "metadata": {
        "colab": {
          "base_uri": "https://localhost:8080/"
        },
        "id": "rvg4_z20RaBn",
        "outputId": "bf5ae395-a8f7-4d27-e7a5-7d1a2e5105b4"
      },
      "execution_count": null,
      "outputs": [
        {
          "output_type": "stream",
          "name": "stdout",
          "text": [
            "1\n",
            "32\n"
          ]
        }
      ]
    },
    {
      "cell_type": "code",
      "source": [
        "#somar as duas variaveis\n",
        "soma = numero1 + numero2\n",
        "print(\"Soma: \", soma)"
      ],
      "metadata": {
        "colab": {
          "base_uri": "https://localhost:8080/"
        },
        "id": "Gj1qLhS3RbBQ",
        "outputId": "2d2221b3-cb93-468c-edcc-4f871a6480f0"
      },
      "execution_count": null,
      "outputs": [
        {
          "output_type": "stream",
          "name": "stdout",
          "text": [
            "Soma:  33\n"
          ]
        }
      ]
    },
    {
      "cell_type": "code",
      "source": [
        "# tipos\n",
        "a = 1\n",
        "print(\"Tipo da variável a é \", type(a))\n",
        "b = \"Olá\"\n",
        "print(\"Tipo da variável b é \", type(b))\n",
        "c = 3.2\n",
        "print(\"Tipo da variável c é \", type(c))\n",
        "d = -1\n",
        "print(\"Tipo da variável d é \", type(d))\n",
        "e = \"3\"\n",
        "print(\"Tipo da variável e é \", type(e))\n",
        "e = 3\n",
        "print(\"Tipo da variável e é \", type(e))"
      ],
      "metadata": {
        "colab": {
          "base_uri": "https://localhost:8080/"
        },
        "id": "LZTdfJRbRcjp",
        "outputId": "816d1351-31de-47a7-a947-94f3f735cfb5"
      },
      "execution_count": null,
      "outputs": [
        {
          "output_type": "stream",
          "name": "stdout",
          "text": [
            "Tipo da variável a é  <class 'int'>\n",
            "Tipo da variável b é  <class 'str'>\n",
            "Tipo da variável c é  <class 'float'>\n",
            "Tipo da variável d é  <class 'int'>\n",
            "Tipo da variável e é  <class 'str'>\n",
            "Tipo da variável e é  <class 'int'>\n"
          ]
        }
      ]
    },
    {
      "cell_type": "code",
      "source": [
        "#Sequencia de texto\n",
        "texto = \"Oi, mundo!\"\n",
        "print(texto)\n",
        "print(type(texto))"
      ],
      "metadata": {
        "colab": {
          "base_uri": "https://localhost:8080/"
        },
        "id": "NwfIdWMfRfSw",
        "outputId": "04b16be4-90b4-445a-96ca-c24fa870a674"
      },
      "execution_count": null,
      "outputs": [
        {
          "output_type": "stream",
          "name": "stdout",
          "text": [
            "Oi, mundo!\n",
            "<class 'str'>\n"
          ]
        }
      ]
    },
    {
      "cell_type": "code",
      "source": [
        "#concatenar texto\n",
        "texto1 = \"Meu nome é: \"\n",
        "texto2 = \"Carolyne Santos\"\n",
        "frase = texto1 + texto2\n",
        "print(frase)"
      ],
      "metadata": {
        "colab": {
          "base_uri": "https://localhost:8080/"
        },
        "id": "uzX-YhnoRhW0",
        "outputId": "0b2f45bb-d2bc-4a87-9c55-99f880cd0ab7"
      },
      "execution_count": null,
      "outputs": [
        {
          "output_type": "stream",
          "name": "stdout",
          "text": [
            "Meu nome é: Carolyne Santos\n"
          ]
        }
      ]
    },
    {
      "cell_type": "code",
      "source": [
        "#Booleano\n",
        "condicao = True\n",
        "print(condicao)"
      ],
      "metadata": {
        "colab": {
          "base_uri": "https://localhost:8080/"
        },
        "id": "ye0LcKn9Rj-X",
        "outputId": "60b2044f-9345-4566-d75d-0b2b85ba4062"
      },
      "execution_count": null,
      "outputs": [
        {
          "output_type": "stream",
          "name": "stdout",
          "text": [
            "True\n"
          ]
        }
      ]
    },
    {
      "cell_type": "code",
      "source": [
        "#condicoes\n",
        "eh_maior_de_idade = True\n",
        "tem_carteira_de_motorista = False\n",
        "pode_dirigir = eh_maior_de_idade and tem_carteira_de_motorista\n",
        "print(pode_dirigir)"
      ],
      "metadata": {
        "colab": {
          "base_uri": "https://localhost:8080/"
        },
        "id": "5ioFQeXfRlsu",
        "outputId": "5dbe55cf-549c-48fa-cfa2-522254be94e8"
      },
      "execution_count": null,
      "outputs": [
        {
          "output_type": "stream",
          "name": "stdout",
          "text": [
            "False\n"
          ]
        }
      ]
    },
    {
      "cell_type": "code",
      "source": [
        "#Mudar tipo de variável e concatenar, pois so consigo concatenar variaveis do mesmo tipo\n",
        "\n",
        "texto1 = \"Oi \"\n",
        "numero1 = str(10)\n",
        "print(texto1 + numero1)"
      ],
      "metadata": {
        "colab": {
          "base_uri": "https://localhost:8080/"
        },
        "id": "-V1vn9A1RnSl",
        "outputId": "d91dc3c6-469b-4e52-e83e-9f71c4e06937"
      },
      "execution_count": null,
      "outputs": [
        {
          "output_type": "stream",
          "name": "stdout",
          "text": [
            "Oi 10\n"
          ]
        }
      ]
    },
    {
      "cell_type": "code",
      "source": [
        "#condicao True e  False\n",
        "if 1 > 0:\n",
        " print(\"Uhuul!\")"
      ],
      "metadata": {
        "colab": {
          "base_uri": "https://localhost:8080/"
        },
        "id": "invsjoFvRpdK",
        "outputId": "9c29078e-219b-45b9-a7aa-67820d400071"
      },
      "execution_count": null,
      "outputs": [
        {
          "output_type": "stream",
          "name": "stdout",
          "text": [
            "Uhuul!\n"
          ]
        }
      ]
    },
    {
      "cell_type": "code",
      "source": [
        "#condicionais\n",
        "numero1 = 1\n",
        "numero2 = 0\n",
        "if numero1 > numero2:\n",
        "  print(\"Uhuul!\")"
      ],
      "metadata": {
        "colab": {
          "base_uri": "https://localhost:8080/"
        },
        "id": "eTXJS1yRRrSj",
        "outputId": "c1d49e51-5b6b-4c6e-e363-9485b9e1318f"
      },
      "execution_count": null,
      "outputs": [
        {
          "output_type": "stream",
          "name": "stdout",
          "text": [
            "Uhuul!\n"
          ]
        }
      ]
    },
    {
      "cell_type": "code",
      "source": [
        "#condicionais\n",
        "numero1 = 1\n",
        "numero2 = 10\n",
        "print(numero1 >  numero2)\n",
        "if numero1 > numero2:\n",
        "    print(\"Uhuul!\")\n",
        "elif numero1 > numero2:\n",
        "    print(\"ei\")\n",
        "else:\n",
        "    print(\"aha\")\n",
        "print(\"fim do programa\")"
      ],
      "metadata": {
        "colab": {
          "base_uri": "https://localhost:8080/"
        },
        "id": "U2qCqVGbRtAn",
        "outputId": "cea4f6b0-a718-4436-8723-ad10d6348746"
      },
      "execution_count": null,
      "outputs": [
        {
          "output_type": "stream",
          "name": "stdout",
          "text": [
            "False\n",
            "aha\n",
            "fim do programa\n"
          ]
        }
      ]
    }
  ]
}