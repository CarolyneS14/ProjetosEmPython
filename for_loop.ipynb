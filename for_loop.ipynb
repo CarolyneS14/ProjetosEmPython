{
 "cells": [
  {
   "attachments": {},
   "cell_type": "markdown",
   "metadata": {},
   "source": [
    "- Crie uma lista\n"
   ]
  },
  {
   "cell_type": "code",
   "execution_count": 20,
   "metadata": {},
   "outputs": [],
   "source": [
    "lista = [8, 9, 35, 34]"
   ]
  },
  {
   "attachments": {},
   "cell_type": "markdown",
   "metadata": {},
   "source": [
    "- Crie um for loop para imprimir na tela todos os elementos da lista\n"
   ]
  },
  {
   "cell_type": "code",
   "execution_count": 21,
   "metadata": {},
   "outputs": [
    {
     "name": "stdout",
     "output_type": "stream",
     "text": [
      "8\n",
      "9\n",
      "35\n",
      "34\n"
     ]
    }
   ],
   "source": [
    "for numero in lista:\n",
    "    print(numero)"
   ]
  },
  {
   "attachments": {},
   "cell_type": "markdown",
   "metadata": {},
   "source": [
    "- Crie um for loop usando o recurso \"continue\"\n"
   ]
  },
  {
   "cell_type": "code",
   "execution_count": 22,
   "metadata": {},
   "outputs": [],
   "source": [
    "for numero in lista:\n",
    "    pass"
   ]
  },
  {
   "attachments": {},
   "cell_type": "markdown",
   "metadata": {},
   "source": [
    "- Crie um for loop usando o recurso \"break\"\n"
   ]
  },
  {
   "cell_type": "code",
   "execution_count": 23,
   "metadata": {},
   "outputs": [
    {
     "name": "stdout",
     "output_type": "stream",
     "text": [
      "Esse numero e par.\n",
      "8\n",
      "Esse numero e divisivel por 3.\n"
     ]
    }
   ],
   "source": [
    "for numero in lista:\n",
    "    if numero % 3 == 0:\n",
    "        print('Esse numero e divisivel por 3.')\n",
    "        break\n",
    "    elif numero % 2 == 0:\n",
    "        print('Esse numero e par.')\n",
    "    else:\n",
    "        print('Estamos no else.')\n",
    "    print(numero)    "
   ]
  },
  {
   "attachments": {},
   "cell_type": "markdown",
   "metadata": {},
   "source": [
    "- Crie um for loop usando o \"else\"\n"
   ]
  },
  {
   "cell_type": "code",
   "execution_count": 24,
   "metadata": {},
   "outputs": [
    {
     "name": "stdout",
     "output_type": "stream",
     "text": [
      "Esse numero e par.\n",
      "8\n",
      "Estamos no else.\n",
      "35\n",
      "Esse numero e par.\n",
      "34\n"
     ]
    }
   ],
   "source": [
    "for numero in lista:\n",
    "    if numero % 3 == 0:\n",
    "        continue\n",
    "    elif numero % 2 == 0:\n",
    "        print('Esse numero e par.')\n",
    "    else:\n",
    "        print('Estamos no else.')\n",
    "    print(numero)  "
   ]
  }
 ],
 "metadata": {
  "kernelspec": {
   "display_name": "Python 3",
   "language": "python",
   "name": "python3"
  },
  "language_info": {
   "codemirror_mode": {
    "name": "ipython",
    "version": 3
   },
   "file_extension": ".py",
   "mimetype": "text/x-python",
   "name": "python",
   "nbconvert_exporter": "python",
   "pygments_lexer": "ipython3",
   "version": "3.12.1"
  },
  "orig_nbformat": 4,
  "vscode": {
   "interpreter": {
    "hash": "916dbcbb3f70747c44a77c7bcd40155683ae19c65e1c03b4aa3499c5328201f1"
   }
  }
 },
 "nbformat": 4,
 "nbformat_minor": 2
}
