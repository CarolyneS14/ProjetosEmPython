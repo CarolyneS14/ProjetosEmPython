{
 "cells": [
  {
   "attachments": {},
   "cell_type": "markdown",
   "metadata": {},
   "source": [
    "- Crie uma lista\n"
   ]
  },
  {
   "cell_type": "code",
   "execution_count": 22,
   "metadata": {},
   "outputs": [],
   "source": [
    "viagem = ['praia', 'campo', 'sitio']"
   ]
  },
  {
   "attachments": {},
   "cell_type": "markdown",
   "metadata": {},
   "source": [
    "- Usando o recurso dictionary comprehension, crie um dicionário cuja a chave é o comprimento do item e o valor, o próprio item da lista.\n"
   ]
  },
  {
   "cell_type": "code",
   "execution_count": 23,
   "metadata": {},
   "outputs": [],
   "source": [
    "#criei um dicionario que retorna o tamanho de cata item da lista\n",
    "dicionario = {f'{len(item)}-{item[0]}': item for item in viagem}"
   ]
  },
  {
   "cell_type": "code",
   "execution_count": 24,
   "metadata": {},
   "outputs": [
    {
     "data": {
      "text/plain": [
       "{'5-p': 'praia', '5-c': 'campo', '5-s': 'sitio'}"
      ]
     },
     "execution_count": 24,
     "metadata": {},
     "output_type": "execute_result"
    }
   ],
   "source": [
    "dicionario"
   ]
  },
  {
   "attachments": {},
   "cell_type": "markdown",
   "metadata": {},
   "source": [
    "- Crie uma lista de tuplas\n"
   ]
  },
  {
   "cell_type": "code",
   "execution_count": 25,
   "metadata": {},
   "outputs": [],
   "source": [
    "#creie uma tupla usando o for... modo mais dificil\n",
    "x, y = ('ceu', 'cinza')"
   ]
  },
  {
   "cell_type": "code",
   "execution_count": 26,
   "metadata": {},
   "outputs": [
    {
     "data": {
      "text/plain": [
       "'ceu'"
      ]
     },
     "execution_count": 26,
     "metadata": {},
     "output_type": "execute_result"
    }
   ],
   "source": [
    "#creie uma tupla usando o for... modo mais dificil\n",
    "x"
   ]
  },
  {
   "cell_type": "code",
   "execution_count": 27,
   "metadata": {},
   "outputs": [
    {
     "name": "stdout",
     "output_type": "stream",
     "text": [
      "ceu --- cinza\n"
     ]
    }
   ],
   "source": [
    "#creie uma tupla usando o for... modo mais dificil\n",
    "tupla = [('ceu', 'cinza')]\n",
    "for a, b in tupla:\n",
    "    print(f'{a} --- {b}')"
   ]
  },
  {
   "cell_type": "code",
   "execution_count": 28,
   "metadata": {},
   "outputs": [],
   "source": [
    "#modo mais facil de criar tupla\n",
    "tupla = [('ceu', 'cinza'), ('cachorro', 'Chips'), ('praia', 'mar')]"
   ]
  },
  {
   "attachments": {},
   "cell_type": "markdown",
   "metadata": {},
   "source": [
    "- Usando o recurso dictionary comprehension, crie um dicionário cuja a chave é o primeiro item da tupla e o valor, o segundo\n"
   ]
  },
  {
   "cell_type": "code",
   "execution_count": 29,
   "metadata": {},
   "outputs": [],
   "source": [
    "dicionario_tuplas = {chave: valor for (chave, valor) in tupla}"
   ]
  },
  {
   "cell_type": "code",
   "execution_count": 30,
   "metadata": {},
   "outputs": [
    {
     "data": {
      "text/plain": [
       "{'ceu': 'cinza', 'cachorro': 'Chips', 'praia': 'mar'}"
      ]
     },
     "execution_count": 30,
     "metadata": {},
     "output_type": "execute_result"
    }
   ],
   "source": [
    "dicionario_tuplas"
   ]
  },
  {
   "attachments": {},
   "cell_type": "markdown",
   "metadata": {},
   "source": [
    "- Crie um dicionário\n"
   ]
  },
  {
   "cell_type": "code",
   "execution_count": 31,
   "metadata": {},
   "outputs": [
    {
     "data": {
      "text/plain": [
       "{'ceu': 'cinza', 'cachorro': 'Chips', 'praia': 'mar'}"
      ]
     },
     "execution_count": 31,
     "metadata": {},
     "output_type": "execute_result"
    }
   ],
   "source": [
    "#nao criei um dicionario, usei do exercicio anterior\n",
    "dicionario_tuplas"
   ]
  },
  {
   "attachments": {},
   "cell_type": "markdown",
   "metadata": {},
   "source": [
    "- Usando o recurso dictionary comprehension, crie um novo dicionário cuja a chave é uma maniputação do valor\n"
   ]
  },
  {
   "cell_type": "code",
   "execution_count": 32,
   "metadata": {},
   "outputs": [
    {
     "name": "stdout",
     "output_type": "stream",
     "text": [
      "{'ceu': 'cinzacinza', 'cachorro': 'ChipsChips', 'praia': 'marmar'}\n"
     ]
    }
   ],
   "source": [
    "#mantive as chaves do dicionario anterior e modifiquei somente o valor da chave, multiplicando-a por dois.\n",
    "dicionario_novo = {chave: (valor*2) for (chave, valor) in dicionario_tuplas.items()}\n",
    "\n",
    "print(dicionario_novo)"
   ]
  },
  {
   "attachments": {},
   "cell_type": "markdown",
   "metadata": {},
   "source": [
    "- Usando o recurso dictionary comprehension, crie um dicionário só com chaves com commprimento menor ou igual a 3\n"
   ]
  },
  {
   "cell_type": "code",
   "execution_count": 33,
   "metadata": {},
   "outputs": [],
   "source": [
    "#usei o dicionario anterior e quero que me mostre as chaves com o comprimento menor ou igual a tres\n",
    "filtro_dicionario = {chave: valor for (chave, valor) in dicionario_novo.items() if len(chave) <= 3}"
   ]
  },
  {
   "cell_type": "code",
   "execution_count": 34,
   "metadata": {},
   "outputs": [
    {
     "data": {
      "text/plain": [
       "{'ceu': 'cinzacinza'}"
      ]
     },
     "execution_count": 34,
     "metadata": {},
     "output_type": "execute_result"
    }
   ],
   "source": [
    "filtro_dicionario"
   ]
  }
 ],
 "metadata": {
  "kernelspec": {
   "display_name": "Python 3",
   "language": "python",
   "name": "python3"
  },
  "language_info": {
   "codemirror_mode": {
    "name": "ipython",
    "version": 3
   },
   "file_extension": ".py",
   "mimetype": "text/x-python",
   "name": "python",
   "nbconvert_exporter": "python",
   "pygments_lexer": "ipython3",
   "version": "3.12.1"
  },
  "orig_nbformat": 4,
  "vscode": {
   "interpreter": {
    "hash": "916dbcbb3f70747c44a77c7bcd40155683ae19c65e1c03b4aa3499c5328201f1"
   }
  }
 },
 "nbformat": 4,
 "nbformat_minor": 2
}
