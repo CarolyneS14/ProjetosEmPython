{
 "cells": [
  {
   "attachments": {},
   "cell_type": "markdown",
   "metadata": {},
   "source": [
    "- Crie uma lista com 30 dados do tipo numérico\n"
   ]
  },
  {
   "cell_type": "code",
   "execution_count": 45,
   "metadata": {},
   "outputs": [],
   "source": [
    "#poderia fazer [1, 2, 3, 4, 5, 6, ... 30] mas usar o range e mais facil\n",
    "listanumerica = range(30)"
   ]
  },
  {
   "attachments": {},
   "cell_type": "markdown",
   "metadata": {},
   "source": [
    "- Dentro de um for loop, crie uma estrutura condicional que imprima na tela o número, caso ele seja maior do que 20. Se o número for 20, imprima 'Esse número é igual a 20.’ e se for maior do que 20, imprima ‘Esse número é maior do que 20.’\n"
   ]
  },
  {
   "cell_type": "code",
   "execution_count": 46,
   "metadata": {},
   "outputs": [
    {
     "name": "stdout",
     "output_type": "stream",
     "text": [
      "0\n",
      "1\n",
      "2\n",
      "3\n",
      "4\n",
      "5\n",
      "6\n",
      "7\n",
      "8\n",
      "9\n",
      "10\n",
      "11\n",
      "12\n",
      "13\n",
      "14\n",
      "15\n",
      "16\n",
      "17\n",
      "18\n",
      "19\n",
      "Numero igual a 20!\n",
      "20\n",
      "Esse numero e maior do que 20.\n",
      "Esse numero e maior do que 20.\n",
      "Esse numero e maior do que 20.\n",
      "Esse numero e maior do que 20.\n",
      "Esse numero e maior do que 20.\n",
      "Esse numero e maior do que 20.\n",
      "Esse numero e maior do que 20.\n",
      "Esse numero e maior do que 20.\n",
      "Esse numero e maior do que 20.\n"
     ]
    }
   ],
   "source": [
    "for numero in listanumerica:\n",
    "    if numero == 20:\n",
    "       print('Numero igual a 20!')\n",
    "    if numero <= 20:\n",
    "     print(numero)  \n",
    "    else:\n",
    "     print('Esse numero e maior do que 20.')"
   ]
  },
  {
   "attachments": {},
   "cell_type": "markdown",
   "metadata": {},
   "source": [
    "- Crie as seguintes variáveis contendo listas vazias: ate_12, entre_13_e_20, maior_21"
   ]
  },
  {
   "cell_type": "code",
   "execution_count": 47,
   "metadata": {},
   "outputs": [],
   "source": [
    "#variavel idade, lista range, que nao precisa colocar todos os numero, so o ultimo. \n",
    "idades = range(50)"
   ]
  },
  {
   "cell_type": "code",
   "execution_count": 48,
   "metadata": {},
   "outputs": [],
   "source": [
    "ate_12 = []\n",
    "entre_13_e_20 = []\n",
    "maior_21 = []"
   ]
  },
  {
   "attachments": {},
   "cell_type": "markdown",
   "metadata": {},
   "source": [
    "- Dentro de um for loop, crie uma estrutura condicional que distribua em cada lista os números seguindo as condições abaixo: \n",
    "1. se o número for menor do que 12, armazene-o na lista ate_12\n",
    "2. se o número estiver entre 13 e 20, amazene-o na lista entre_13_e_20\n",
    "3. se o número for maior do 21, armazene-o na lista maior_21\n",
    "\n"
   ]
  },
  {
   "cell_type": "code",
   "execution_count": 49,
   "metadata": {},
   "outputs": [],
   "source": [
    "for idade in idades:\n",
    "    if idade <= 12:\n",
    "        ate_12.append(idade)\n",
    "    elif idade > 12 and idade <=20:\n",
    "        entre_13_e_20.append(idade)\n",
    "    elif idade >20:\n",
    "        maior_21.append(idade)"
   ]
  },
  {
   "cell_type": "code",
   "execution_count": 50,
   "metadata": {},
   "outputs": [
    {
     "data": {
      "text/plain": [
       "[0, 1, 2, 3, 4, 5, 6, 7, 8, 9, 10, 11, 12]"
      ]
     },
     "execution_count": 50,
     "metadata": {},
     "output_type": "execute_result"
    }
   ],
   "source": [
    "ate_12"
   ]
  },
  {
   "cell_type": "code",
   "execution_count": 51,
   "metadata": {},
   "outputs": [
    {
     "data": {
      "text/plain": [
       "[13, 14, 15, 16, 17, 18, 19, 20]"
      ]
     },
     "execution_count": 51,
     "metadata": {},
     "output_type": "execute_result"
    }
   ],
   "source": [
    "entre_13_e_20"
   ]
  },
  {
   "cell_type": "code",
   "execution_count": 52,
   "metadata": {},
   "outputs": [
    {
     "data": {
      "text/plain": [
       "[21,\n",
       " 22,\n",
       " 23,\n",
       " 24,\n",
       " 25,\n",
       " 26,\n",
       " 27,\n",
       " 28,\n",
       " 29,\n",
       " 30,\n",
       " 31,\n",
       " 32,\n",
       " 33,\n",
       " 34,\n",
       " 35,\n",
       " 36,\n",
       " 37,\n",
       " 38,\n",
       " 39,\n",
       " 40,\n",
       " 41,\n",
       " 42,\n",
       " 43,\n",
       " 44,\n",
       " 45,\n",
       " 46,\n",
       " 47,\n",
       " 48,\n",
       " 49]"
      ]
     },
     "execution_count": 52,
     "metadata": {},
     "output_type": "execute_result"
    }
   ],
   "source": [
    "maior_21"
   ]
  }
 ],
 "metadata": {
  "kernelspec": {
   "display_name": "Python 3",
   "language": "python",
   "name": "python3"
  },
  "language_info": {
   "codemirror_mode": {
    "name": "ipython",
    "version": 3
   },
   "file_extension": ".py",
   "mimetype": "text/x-python",
   "name": "python",
   "nbconvert_exporter": "python",
   "pygments_lexer": "ipython3",
   "version": "3.12.1"
  },
  "orig_nbformat": 4,
  "vscode": {
   "interpreter": {
    "hash": "916dbcbb3f70747c44a77c7bcd40155683ae19c65e1c03b4aa3499c5328201f1"
   }
  }
 },
 "nbformat": 4,
 "nbformat_minor": 2
}
