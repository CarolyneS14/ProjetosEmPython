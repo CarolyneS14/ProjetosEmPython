{
 "cells": [
  {
   "attachments": {},
   "cell_type": "markdown",
   "metadata": {},
   "source": [
    "- Crie uma classe\n"
   ]
  },
  {
   "cell_type": "code",
   "execution_count": 160,
   "metadata": {},
   "outputs": [],
   "source": [
    "class Cachorro:\n",
    "\n",
    "    def __init__(self, **kwargs):\n",
    "        self.patas = kwargs['patas']\n",
    "        self.cor = kwargs['cor']\n",
    "        self.nome = kwargs['nome'] if 'nome' in kwargs else 'Bob'\n",
    "        self.comprimento_pelagem = kwargs['comprimento_pelagem']"
   ]
  },
  {
   "attachments": {},
   "cell_type": "markdown",
   "metadata": {},
   "source": [
    "- Estabeleça variáveis privadas no construtor \n"
   ]
  },
  {
   "cell_type": "code",
   "execution_count": 161,
   "metadata": {},
   "outputs": [],
   "source": [
    "class Cachorro:\n",
    "\n",
    "    def __init__(self, **kwargs):\n",
    "        self._patas = kwargs['patas']\n",
    "        self._cor = kwargs['cor']\n",
    "        self._nome = kwargs['nome'] if 'nome' in kwargs else 'chips'\n",
    "        self._comprimento_pelagem = kwargs['comprimento_pelagem']"
   ]
  },
  {
   "attachments": {},
   "cell_type": "markdown",
   "metadata": {},
   "source": [
    "- Crie um método get, que retorne uma das variáveis privadas\n"
   ]
  },
  {
   "cell_type": "code",
   "execution_count": 162,
   "metadata": {},
   "outputs": [],
   "source": [
    "def getCor(self):\n",
    "    return self._cor"
   ]
  },
  {
   "cell_type": "code",
   "execution_count": 163,
   "metadata": {},
   "outputs": [],
   "source": [
    "def getPatas(self):\n",
    "    return self._patas"
   ]
  },
  {
   "cell_type": "code",
   "execution_count": 164,
   "metadata": {},
   "outputs": [],
   "source": [
    "def getComprimento(self):\n",
    "    return self._comprimento_pelagem    "
   ]
  },
  {
   "attachments": {},
   "cell_type": "markdown",
   "metadata": {},
   "source": [
    "- Crie um método set, que modifique uma das variáveis privadas\n"
   ]
  },
  {
   "cell_type": "code",
   "execution_count": 165,
   "metadata": {},
   "outputs": [],
   "source": [
    "def setCor(self, nova_cor='caramelo'):\n",
    "    if nova_cor:\n",
    "        self._cor = nova_cor\n",
    "    return self._cor  "
   ]
  },
  {
   "attachments": {},
   "cell_type": "markdown",
   "metadata": {},
   "source": [
    "- Instancie a classe e imprima na tela a variável antes e depois da modificação\n"
   ]
  },
  {
   "cell_type": "code",
   "execution_count": 166,
   "metadata": {},
   "outputs": [],
   "source": [
    "class Cachorro:\n",
    "\n",
    "    def __init__(self, **kwargs):\n",
    "        self.patas = kwargs['patas']\n",
    "        self.cor = kwargs['cor']\n",
    "        self.nome = kwargs['nome'] if 'nome' in kwargs else 'chips'\n",
    "        self.comprimento_pelagem = kwargs['comprimento_pelagem']\n",
    "   "
   ]
  },
  {
   "cell_type": "code",
   "execution_count": 167,
   "metadata": {},
   "outputs": [],
   "source": [
    "def getCor(self):\n",
    "    return self.cor\n",
    "\n",
    "def setCor(self, nova_cor='Sal e Pimenta'):\n",
    "    if nova_cor:\n",
    "        self.cor = nova_cor\n",
    "    return self.cor  "
   ]
  },
  {
   "cell_type": "code",
   "execution_count": 168,
   "metadata": {},
   "outputs": [],
   "source": [
    "chips = Cachorro(patas= 4, \n",
    "                 cor = 'Sal e pimenta', \n",
    "                 nome = 'Chips', \n",
    "                 comprimento_pelagem = 'curto')\n"
   ]
  }
 ],
 "metadata": {
  "kernelspec": {
   "display_name": "Python 3",
   "language": "python",
   "name": "python3"
  },
  "language_info": {
   "codemirror_mode": {
    "name": "ipython",
    "version": 3
   },
   "file_extension": ".py",
   "mimetype": "text/x-python",
   "name": "python",
   "nbconvert_exporter": "python",
   "pygments_lexer": "ipython3",
   "version": "3.12.1"
  },
  "orig_nbformat": 4,
  "vscode": {
   "interpreter": {
    "hash": "916dbcbb3f70747c44a77c7bcd40155683ae19c65e1c03b4aa3499c5328201f1"
   }
  }
 },
 "nbformat": 4,
 "nbformat_minor": 2
}
