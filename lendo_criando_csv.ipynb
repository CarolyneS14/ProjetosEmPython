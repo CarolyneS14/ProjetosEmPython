{
 "cells": [
  {
   "attachments": {},
   "cell_type": "markdown",
   "metadata": {},
   "source": [
    "- Importe a biblioteca csv"
   ]
  },
  {
   "cell_type": "code",
   "execution_count": 1,
   "metadata": {},
   "outputs": [],
   "source": [
    "import csv"
   ]
  },
  {
   "attachments": {},
   "cell_type": "markdown",
   "metadata": {},
   "source": [
    "- Abra o arquivo \"dados/populacao_mundial.csv\" e imprima-o na tela\n"
   ]
  },
  {
   "cell_type": "code",
   "execution_count": 2,
   "metadata": {},
   "outputs": [
    {
     "name": "stdout",
     "output_type": "stream",
     "text": [
      "['continente\\tpais\\tano\\tpopulaÃ§Ã£o\\t%_crescimento_populacional\\tcrescimento_populacional\\tmigrantes\\tidade_media\\t%_fertilidade\\t%_populacao_urbana\\tpopulacao_urbana\\t%_populacao_mundial\\tclassificacao']\n",
      "['Asia\\tAfghanistan\\t1955\\t8270991\\t1.3\\t103775\\t-4000\\t19.2\\t7.45\\t7.1\\t587818\\t0.3\\t48']\n",
      "['Asia\\tAfghanistan\\t1960\\t8996973\\t1.7\\t145196\\t-4000\\t18.8\\t7.45\\t8.4\\t755797\\t0.3\\t48']\n",
      "['Asia\\tAfghanistan\\t1965\\t9956320\\t2.05\\t191869\\t-4000\\t18.4\\t7.45\\t9.9\\t984350\\t0.3\\t48']\n",
      "['Asia\\tAfghanistan\\t1970\\t11173642\\t2.33\\t243464\\t-4000\\t17.9\\t7.45\\t11.6\\t1295433\\t0.3\\t48']\n"
     ]
    }
   ],
   "source": [
    "#with open('../../dados/populacao_mundial.csv', 'r') as arquivo_csv:\n",
    "#    dados = csv.reader(arquivo_csv)\n",
    "#   for linha in dados:\n",
    "#        print(linha)\n",
    "#ARQUIVO SERI LIDO COM O COMANDO ACIMA, POREM ELE E MUITO GRANDE,\n",
    "\n",
    "#NO EXEMPLO ABAIXO CRIEI UMA LISTA ADD METODO list(), e selecionei apenas cinco linhas [:5].\n",
    "with open('../../dados/populacao_mundial.csv', 'r') as arquivo_csv:\n",
    "    dados = list(csv.reader(arquivo_csv))\n",
    "    for linha in dados[:5]:\n",
    "        print(linha)"
   ]
  },
  {
   "attachments": {},
   "cell_type": "markdown",
   "metadata": {},
   "source": [
    "- Repita o exercício anterior informando o delimitador '\\t'\n"
   ]
  },
  {
   "cell_type": "code",
   "execution_count": 3,
   "metadata": {},
   "outputs": [
    {
     "name": "stdout",
     "output_type": "stream",
     "text": [
      "['continente', 'pais', 'ano', 'populaÃ§Ã£o', '%_crescimento_populacional', 'crescimento_populacional', 'migrantes', 'idade_media', '%_fertilidade', '%_populacao_urbana', 'populacao_urbana', '%_populacao_mundial', 'classificacao']\n",
      "['Asia', 'Afghanistan', '1955', '8270991', '1.3', '103775', '-4000', '19.2', '7.45', '7.1', '587818', '0.3', '48']\n",
      "['Asia', 'Afghanistan', '1960', '8996973', '1.7', '145196', '-4000', '18.8', '7.45', '8.4', '755797', '0.3', '48']\n",
      "['Asia', 'Afghanistan', '1965', '9956320', '2.05', '191869', '-4000', '18.4', '7.45', '9.9', '984350', '0.3', '48']\n",
      "['Asia', 'Afghanistan', '1970', '11173642', '2.33', '243464', '-4000', '17.9', '7.45', '11.6', '1295433', '0.3', '48']\n"
     ]
    }
   ],
   "source": [
    "#criei um arquivo chamado populacao_mundial na pasta Dados (canto superior esquerdo)\n",
    "with open('../../dados/populacao_mundial.csv', 'r') as arquivo_csv:\n",
    "    dados = list(csv.reader(arquivo_csv, delimiter='\\t'))\n",
    "    for linha in dados[:5]:\n",
    "        print(linha)\n",
    "\n",
    "#delimitador separa as palavras, frases, etc.        "
   ]
  },
  {
   "attachments": {},
   "cell_type": "markdown",
   "metadata": {},
   "source": [
    "- Crie um novo arquivo csv usando as listas abaixo:\n",
    "\n",
    "cabecalho = ['pais', 'ano', '%_crescimento_populacional']\n",
    "\n",
    "populacao_pais = ['Chile', 'Chile', 'Chile', 'Chile', 'Chile']\n",
    "populacao_ano = ['1955', '1960', '1965', '1970', '1975']\n",
    "populacao_crescimento_populacional = ['1.3', '1.7', '2.05', '2.33', '2.58']"
   ]
  },
  {
   "cell_type": "code",
   "execution_count": 5,
   "metadata": {},
   "outputs": [
    {
     "name": "stdout",
     "output_type": "stream",
     "text": [
      "('Chile', '1955', '1.3')\n",
      "('Chile', '1960', '1.7')\n",
      "('Chile', '1965', '2.05')\n",
      "('Chile', '1970', '2.33')\n",
      "('Chile', '1975', '2.58')\n"
     ]
    }
   ],
   "source": [
    "cabecalho = ['pais', 'ano', '%_crescimento_populacional']\n",
    "\n",
    "populacao_pais = ['Chile', 'Chile', 'Chile', 'Chile', 'Chile']\n",
    "populacao_ano = ['1955', '1960', '1965', '1970', '1975']\n",
    "populacao_crescimento_populacional = ['1.3', '1.7', '2.05', '2.33', '2.58']\n",
    "\n",
    "for linha in zip(populacao_pais, populacao_ano, populacao_crescimento_populacional):\n",
    "    print(linha)\n",
    "#creiei uma tupla, usando o indice acima.    "
   ]
  },
  {
   "cell_type": "code",
   "execution_count": 6,
   "metadata": {},
   "outputs": [
    {
     "name": "stdout",
     "output_type": "stream",
     "text": [
      "[('Chile', '1955', '1.3'), ('Chile', '1960', '1.7'), ('Chile', '1965', '2.05'), ('Chile', '1970', '2.33'), ('Chile', '1975', '2.58')]\n"
     ]
    }
   ],
   "source": [
    "linhas = []\n",
    "\n",
    "for linha in zip(populacao_pais, populacao_ano, populacao_crescimento_populacional):\n",
    "    linhas.append(linha)\n",
    "print(linhas)\n",
    "\n",
    "#criei uma lista organizada por tuplas"
   ]
  },
  {
   "cell_type": "code",
   "execution_count": 7,
   "metadata": {},
   "outputs": [],
   "source": [
    "#criei um arquivo na pasta Dados (canto superior esquerdo)\n",
    "with open('../../dados/amostra.csv', 'w') as amostra:\n",
    "    escrita = csv.writer(amostra)\n",
    "    escrita.writerow(cabecalho)\n",
    "    escrita.writerows(linhas)"
   ]
  }
 ],
 "metadata": {
  "kernelspec": {
   "display_name": "Python 3",
   "language": "python",
   "name": "python3"
  },
  "language_info": {
   "codemirror_mode": {
    "name": "ipython",
    "version": 3
   },
   "file_extension": ".py",
   "mimetype": "text/x-python",
   "name": "python",
   "nbconvert_exporter": "python",
   "pygments_lexer": "ipython3",
   "version": "3.12.1"
  },
  "orig_nbformat": 4,
  "vscode": {
   "interpreter": {
    "hash": "916dbcbb3f70747c44a77c7bcd40155683ae19c65e1c03b4aa3499c5328201f1"
   }
  }
 },
 "nbformat": 4,
 "nbformat_minor": 2
}
