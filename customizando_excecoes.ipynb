{
 "cells": [
  {
   "attachments": {},
   "cell_type": "markdown",
   "metadata": {},
   "source": [
    "- Imagine que você está criando um servidor web e customize exceções para o código\n"
   ]
  },
  {
   "cell_type": "code",
   "execution_count": 3,
   "metadata": {},
   "outputs": [
    {
     "name": "stdout",
     "output_type": "stream",
     "text": [
      "Mensagem automatica de erro generico.\n"
     ]
    }
   ],
   "source": [
    "from random import random, randrange\n",
    "\n",
    "try:\n",
    "    x = random() / 0\n",
    "    print(x)\n",
    "\n",
    "except Exception:\n",
    "    print('Mensagem automatica de erro generico.')\n",
    "\n",
    "finally:\n",
    "    pass"
   ]
  },
  {
   "cell_type": "code",
   "execution_count": 2,
   "metadata": {},
   "outputs": [
    {
     "name": "stdout",
     "output_type": "stream",
     "text": [
      "Mensagem automatica de erro generico.\n"
     ]
    }
   ],
   "source": [
    "from random import random, randrange\n",
    "\n",
    "try:\n",
    "    x = random() / 0\n",
    "    print(x)\n",
    "\n",
    "except Exception:\n",
    "    print('Mensagem automatica de erro generico.')\n",
    "\n",
    "except ZeroDivisionError:\n",
    "    print('Nenhum numero e divisivel por zero.')\n",
    "    y = randrange(10)\n",
    "    print(f'Vamos dividir o numero desejado por {y}')\n",
    "    x = random() / y\n",
    "    print(f'Aqui esta o resultado: {x}')\n",
    "\n",
    "finally:\n",
    "    pass"
   ]
  },
  {
   "cell_type": "code",
   "execution_count": 4,
   "metadata": {},
   "outputs": [
    {
     "name": "stdout",
     "output_type": "stream",
     "text": [
      "Nenhum numero e divisivel por zero.\n",
      "Vamos dividir o numero desejado por 6\n",
      "Aqui esta o resultado: 0.06808124262958572\n"
     ]
    }
   ],
   "source": [
    "from random import random, randrange\n",
    "\n",
    "try:\n",
    "    x = random() / 0\n",
    "    print(x)\n",
    "\n",
    "except ZeroDivisionError:\n",
    "    print('Nenhum numero e divisivel por zero.')\n",
    "    y = randrange(10)\n",
    "    print(f'Vamos dividir o numero desejado por {y}')\n",
    "    x = random() / y\n",
    "    print(f'Aqui esta o resultado: {x}')\n",
    "\n",
    "except TypeError:\n",
    "    print('Existe um erro de tipo. Talvez voce esteja tentando aplicar um metodo nao suportado por tipos dados numericos')    \n",
    "\n",
    "except Exception:\n",
    "    print('Mensagem automatica de erro generico.')    \n",
    "\n",
    "finally:\n",
    "    pass"
   ]
  },
  {
   "cell_type": "code",
   "execution_count": 11,
   "metadata": {},
   "outputs": [
    {
     "name": "stdout",
     "output_type": "stream",
     "text": [
      "Existe um erro de tipo. Talvez voce esteja tentando aplicar um metodo nao suportado por tipos dados numericos\n"
     ]
    }
   ],
   "source": [
    "from random import random, randrange\n",
    "\n",
    "try:\n",
    "    x = random() / 'a'\n",
    "    print(x)\n",
    "\n",
    "except ZeroDivisionError:\n",
    "    print('Nenhum numero e divisivel por zero.')\n",
    "    y = randrange(10)\n",
    "    print(f'Vamos dividir o numero desejado por {y}')\n",
    "    x = random() / y\n",
    "    print(f'Aqui esta o resultado: {x}')\n",
    "\n",
    "except TypeError:\n",
    "    print('Existe um erro de tipo. Talvez voce esteja tentando aplicar um metodo nao suportado por tipos dados numericos')    \n",
    "\n",
    "except Exception:\n",
    "    print('Mensagem automatica de erro generico.')    \n",
    "\n",
    "finally:\n",
    "    pass"
   ]
  },
  {
   "cell_type": "code",
   "execution_count": 12,
   "metadata": {},
   "outputs": [
    {
     "name": "stdout",
     "output_type": "stream",
     "text": [
      "Nenhum numero e divisivel por zero.\n",
      "Vamos dividir o numero desejado por 9\n",
      "Aqui esta o resultado: 0.08486664503822124\n",
      "FIM!\n"
     ]
    }
   ],
   "source": [
    "from random import random, randrange\n",
    "\n",
    "try:\n",
    "    x = random() / 0\n",
    "    print(x)\n",
    "\n",
    "except ZeroDivisionError:\n",
    "    print('Nenhum numero e divisivel por zero.')\n",
    "    y = randrange(10)\n",
    "    print(f'Vamos dividir o numero desejado por {y}')\n",
    "    x = random() / y\n",
    "    print(f'Aqui esta o resultado: {x}')\n",
    "\n",
    "except TypeError:\n",
    "    print('Existe um erro de tipo. Talvez voce esteja tentando aplicar um metodo nao suportado por tipos dados numericos')    \n",
    "\n",
    "except Exception:\n",
    "    print('Mensagem automatica de erro generico.')    \n",
    "\n",
    "finally:\n",
    "    print('FIM!')"
   ]
  },
  {
   "cell_type": "code",
   "execution_count": 13,
   "metadata": {},
   "outputs": [
    {
     "name": "stdout",
     "output_type": "stream",
     "text": [
      "2.8304027962619416\n"
     ]
    }
   ],
   "source": [
    "from random import random, randrange\n",
    "\n",
    "try:\n",
    "    x = random() / 0.1\n",
    "    print(x)\n",
    "\n",
    "except ZeroDivisionError:\n",
    "    print('Nenhum numero e divisivel por zero.')\n",
    "    y = randrange(10)\n",
    "    print(f'Vamos dividir o numero desejado por {y}')\n",
    "    x = random() / y\n",
    "    print(f'Aqui esta o resultado: {x}')\n",
    "\n",
    "except TypeError:\n",
    "    print('Existe um erro de tipo. Talvez voce esteja tentando aplicar um metodo nao suportado por tipos dados numericos')    \n",
    "\n",
    "except Exception:\n",
    "    print('Mensagem automatica de erro generico.')    \n",
    "\n",
    "finally:\n",
    "    pass"
   ]
  },
  {
   "attachments": {},
   "cell_type": "markdown",
   "metadata": {},
   "source": [
    "- Simule a aplicação de uma exceção customizada no código"
   ]
  },
  {
   "cell_type": "code",
   "execution_count": 15,
   "metadata": {},
   "outputs": [],
   "source": [
    "class HttpException(Exception):\n",
    "    codigo_status = None\n",
    "    mensagem = None\n",
    "\n",
    "    def __init__(self):\n",
    "        super().__init__(f'Codigo do status: {self.codigo_status}.Mensagem: {self.mensagem}')\n",
    "\n",
    "class Unauthorized(HttpException):\n",
    "    codigo_status = 401\n",
    "    mensagem = 'Acesso nao autorizado.'\n",
    "\n",
    "class BadGateway(HttpException):\n",
    "    codigo_status = 502\n",
    "    mensagem = 'Esse servidor e um gateway ou servidor proxy, que nao esta recebendo resposta valida dos servidores de back-end.' \n"
   ]
  },
  {
   "cell_type": "code",
   "execution_count": 16,
   "metadata": {},
   "outputs": [],
   "source": [
    "def raiseUnauthorizedError():\n",
    "    raise Unauthorized()"
   ]
  },
  {
   "cell_type": "code",
   "execution_count": 17,
   "metadata": {},
   "outputs": [
    {
     "ename": "Unauthorized",
     "evalue": "Codigo do status: 401.Mensagem: Acesso nao autorizado.",
     "output_type": "error",
     "traceback": [
      "\u001b[1;31m---------------------------------------------------------------------------\u001b[0m",
      "\u001b[1;31mUnauthorized\u001b[0m                              Traceback (most recent call last)",
      "Cell \u001b[1;32mIn[17], line 1\u001b[0m\n\u001b[1;32m----> 1\u001b[0m \u001b[43mraiseUnauthorizedError\u001b[49m\u001b[43m(\u001b[49m\u001b[43m)\u001b[49m\n",
      "Cell \u001b[1;32mIn[16], line 2\u001b[0m, in \u001b[0;36mraiseUnauthorizedError\u001b[1;34m()\u001b[0m\n\u001b[0;32m      1\u001b[0m \u001b[38;5;28;01mdef\u001b[39;00m \u001b[38;5;21mraiseUnauthorizedError\u001b[39m():\n\u001b[1;32m----> 2\u001b[0m     \u001b[38;5;28;01mraise\u001b[39;00m Unauthorized()\n",
      "\u001b[1;31mUnauthorized\u001b[0m: Codigo do status: 401.Mensagem: Acesso nao autorizado."
     ]
    }
   ],
   "source": [
    "raiseUnauthorizedError()"
   ]
  }
 ],
 "metadata": {
  "kernelspec": {
   "display_name": "Python 3",
   "language": "python",
   "name": "python3"
  },
  "language_info": {
   "codemirror_mode": {
    "name": "ipython",
    "version": 3
   },
   "file_extension": ".py",
   "mimetype": "text/x-python",
   "name": "python",
   "nbconvert_exporter": "python",
   "pygments_lexer": "ipython3",
   "version": "3.12.1"
  },
  "orig_nbformat": 4,
  "vscode": {
   "interpreter": {
    "hash": "916dbcbb3f70747c44a77c7bcd40155683ae19c65e1c03b4aa3499c5328201f1"
   }
  }
 },
 "nbformat": 4,
 "nbformat_minor": 2
}
