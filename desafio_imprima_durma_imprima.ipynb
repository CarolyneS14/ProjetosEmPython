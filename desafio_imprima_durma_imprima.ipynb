{
 "cells": [
  {
   "cell_type": "markdown",
   "metadata": {},
   "source": [
    "1. Importe o módulo \"time\"\n",
    "1. Imprima na tela \"Olá, mundo!\"\n",
    "1. Insira a função \"time.sleep\" e passe como argumento 2\n",
    "1. Imprima na tela \"Agora sou uma pessoa programadora Python.\" e \"Aguarde 4.5 segundos\"\n",
    "1. Insira a função \"time.sleep\" e passe como argumento 4.5\n",
    "1. Imprima na tela \"Última linha do programa.\""
   ]
  },
  {
   "cell_type": "code",
   "execution_count": 2,
   "metadata": {},
   "outputs": [
    {
     "name": "stdout",
     "output_type": "stream",
     "text": [
      "Ola, mundo!\n",
      "Agora sou uma pessoa programadora Python!\n",
      "Ultima linha do programa.\n"
     ]
    }
   ],
   "source": [
    "import time\n",
    "print(\"Ola, mundo!\")\n",
    "time.sleep(2)\n",
    "print(\"Agora sou uma pessoa programadora Python!\")\n",
    "time.sleep(4.5)\n",
    "print(\"Ultima linha do programa.\")"
   ]
  }
 ],
 "metadata": {
  "kernelspec": {
   "display_name": "Python 3.11.0 64-bit",
   "language": "python",
   "name": "python3"
  },
  "language_info": {
   "codemirror_mode": {
    "name": "ipython",
    "version": 3
   },
   "file_extension": ".py",
   "mimetype": "text/x-python",
   "name": "python",
   "nbconvert_exporter": "python",
   "pygments_lexer": "ipython3",
   "version": "3.12.1"
  },
  "orig_nbformat": 4,
  "vscode": {
   "interpreter": {
    "hash": "1a1af0ee75eeea9e2e1ee996c87e7a2b11a0bebd85af04bb136d915cefc0abce"
   }
  }
 },
 "nbformat": 4,
 "nbformat_minor": 2
}
