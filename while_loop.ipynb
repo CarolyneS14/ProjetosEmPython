{
 "cells": [
  {
   "attachments": {},
   "cell_type": "markdown",
   "metadata": {},
   "source": [
    "- Crie um while loop que imprima números de 0 a 5\n"
   ]
  },
  {
   "cell_type": "code",
   "execution_count": 11,
   "metadata": {},
   "outputs": [],
   "source": [
    "inicio = 0\n",
    "fim = 5"
   ]
  },
  {
   "cell_type": "code",
   "execution_count": 12,
   "metadata": {},
   "outputs": [
    {
     "name": "stdout",
     "output_type": "stream",
     "text": [
      "Voce esta no estagio 0\n",
      "Voce esta no estagio 1\n",
      "Voce esta no estagio 2\n",
      "Voce esta no estagio 3\n",
      "Voce esta no estagio 4\n",
      "Voce esta no estagio 5\n"
     ]
    }
   ],
   "source": [
    "while inicio <= fim:\n",
    "    print('Voce esta no estagio',inicio)\n",
    "    inicio += 1"
   ]
  },
  {
   "attachments": {},
   "cell_type": "markdown",
   "metadata": {},
   "source": [
    "- Crie um while loop com else"
   ]
  },
  {
   "cell_type": "code",
   "execution_count": 13,
   "metadata": {},
   "outputs": [
    {
     "name": "stdout",
     "output_type": "stream",
     "text": [
      "Voce chegou ao Fim!\n"
     ]
    }
   ],
   "source": [
    "while inicio <= fim:\n",
    "    print('Voce esta no estagio',inicio)\n",
    "    inicio += 1\n",
    "else:\n",
    "    print('Voce chegou ao Fim!')  "
   ]
  },
  {
   "cell_type": "code",
   "execution_count": 14,
   "metadata": {},
   "outputs": [
    {
     "name": "stdout",
     "output_type": "stream",
     "text": [
      "Voce chegou ao Fim!\n"
     ]
    }
   ],
   "source": [
    "while inicio <= fim:\n",
    "     inicio += 1\n",
    "     if inicio == 1:\n",
    "          continue\n",
    "     elif inicio == 2:\n",
    "          print('Voce esta no estagio 2, continue!')\n",
    "     elif inicio == 3:\n",
    "          pass\n",
    "     elif inicio == 4:\n",
    "          break\n",
    "     print('Voce Passou do estagio', inicio)     \n",
    "   \n",
    "else:\n",
    "    print('Voce chegou ao Fim!')  "
   ]
  }
 ],
 "metadata": {
  "kernelspec": {
   "display_name": "Python 3",
   "language": "python",
   "name": "python3"
  },
  "language_info": {
   "codemirror_mode": {
    "name": "ipython",
    "version": 3
   },
   "file_extension": ".py",
   "mimetype": "text/x-python",
   "name": "python",
   "nbconvert_exporter": "python",
   "pygments_lexer": "ipython3",
   "version": "3.12.1"
  },
  "orig_nbformat": 4,
  "vscode": {
   "interpreter": {
    "hash": "916dbcbb3f70747c44a77c7bcd40155683ae19c65e1c03b4aa3499c5328201f1"
   }
  }
 },
 "nbformat": 4,
 "nbformat_minor": 2
}
